{
 "cells": [
  {
   "cell_type": "markdown",
   "source": [
    "# Lichess game dataset\n",
    "## General Info\n",
    "As a passionate chess player, I am always interested in learning from how others play the game. When I saw that [Mitchell J](https://www.kaggle.com/datasnaek) uploaded a data set of just over 20,000 games collected from a selection of users on the site Lichess.org, I knew that I had to dig into it.\n",
    "\n",
    "### Original Dataset Features\n",
    "- Game ID\n",
    "- Rated (T/F)\n",
    "- Start Time\n",
    "- End Time\n",
    "- Number of Turns\n",
    "- Game Status\n",
    "- Winner\n",
    "- Time Increment\n",
    "- White Player ID\n",
    "- White Player Rating\n",
    "- Black Player ID\n",
    "- Black Player Rating\n",
    "- All Match Moves in Standard Chess Notation\n",
    "- Opening Eco, the standard code for an opening\n",
    "- Opening Name\n",
    "- Opening Ply (Number of moves in the opening phase)\n",
    "\n",
    "A note from [Mitchell](https://www.kaggle.com/datasnaek) on how to update the dataset:\n",
    "> I collected this data using the Lichess API, which enables collection of any given users game history. The difficult part was collecting usernames to use, however the API also enables dumping of all users in a Lichess team. There are several teams on Lichess with over 1,500 players, so this proved an effective way to get users to collect games from.\n",
    "\n",
    "### Questions of Interest\n",
    "- What is the percentage of rated games?\n",
    "- What is the typical length of a game on Lichess? Do time controls typically change the pace of the game? (Where in the total allowed time do games typically end?)\n",
    "- For how many turns do games typically last?\n",
    "- What is the typical rating differential between players? Are wins correlated to higher rating? By how much?\n",
    "- Which are the most effective openings by win percentage? Least effective? Which openings are used the most at different ratings? How far do people stay in opening books, and for which openings?\n",
    "- Who are the most prolific players, and what is their rating?\n",
    "- Do the number of games a user plays correlate to their rating?\n",
    "\n",
    "## Import and clean the dataset"
   ],
   "metadata": {
    "collapsed": false
   }
  },
  {
   "cell_type": "code",
   "execution_count": 22,
   "outputs": [
    {
     "data": {
      "text/plain": "         id  rated       created_at     last_move_at  turns victory_status  \\\n0  TZJHLljE  False 1504210000000.00 1504210000000.00     13      outoftime   \n1  l1NXvwaE   True 1504130000000.00 1504130000000.00     16         resign   \n2  mIICvQHh   True 1504130000000.00 1504130000000.00     61           mate   \n3  kWKvrqYL   True 1504110000000.00 1504110000000.00     61           mate   \n4  9tXo1AUZ   True 1504030000000.00 1504030000000.00     95           mate   \n\n  winner increment_code       white_id  white_rating      black_id  \\\n0  white           15+2       bourgris          1500          a-00   \n1  black           5+10           a-00          1322     skinnerua   \n2  white           5+10         ischia          1496          a-00   \n3  white           20+0  daniamurashov          1439  adivanov2009   \n4  white           30+3      nik221107          1523  adivanov2009   \n\n   black_rating                                              moves  \\\n0          1191  d4 d5 c4 c6 cxd5 e6 dxe6 fxe6 Nf3 Bb4+ Nc3 Ba5...   \n1          1261  d4 Nc6 e4 e5 f4 f6 dxe5 fxe5 fxe5 Nxe5 Qd4 Nc6...   \n2          1500  e4 e5 d3 d6 Be3 c6 Be2 b5 Nd2 a5 a4 c5 axb5 Nc...   \n3          1454  d4 d5 Nf3 Bf5 Nc3 Nf6 Bf4 Ng4 e3 Nc6 Be2 Qd7 O...   \n4          1469  e4 e5 Nf3 d6 d4 Nc6 d5 Nb4 a3 Na6 Nc3 Be7 b4 N...   \n\n  opening_eco                            opening_name  opening_ply  \n0         D10        Slav Defense: Exchange Variation            5  \n1         B00  Nimzowitsch Defense: Kennedy Variation            4  \n2         C20   King's Pawn Game: Leonardis Variation            3  \n3         D02  Queen's Pawn Game: Zukertort Variation            3  \n4         C41                        Philidor Defense            5  ",
      "text/html": "<div>\n<style scoped>\n    .dataframe tbody tr th:only-of-type {\n        vertical-align: middle;\n    }\n\n    .dataframe tbody tr th {\n        vertical-align: top;\n    }\n\n    .dataframe thead th {\n        text-align: right;\n    }\n</style>\n<table border=\"1\" class=\"dataframe\">\n  <thead>\n    <tr style=\"text-align: right;\">\n      <th></th>\n      <th>id</th>\n      <th>rated</th>\n      <th>created_at</th>\n      <th>last_move_at</th>\n      <th>turns</th>\n      <th>victory_status</th>\n      <th>winner</th>\n      <th>increment_code</th>\n      <th>white_id</th>\n      <th>white_rating</th>\n      <th>black_id</th>\n      <th>black_rating</th>\n      <th>moves</th>\n      <th>opening_eco</th>\n      <th>opening_name</th>\n      <th>opening_ply</th>\n    </tr>\n  </thead>\n  <tbody>\n    <tr>\n      <th>0</th>\n      <td>TZJHLljE</td>\n      <td>False</td>\n      <td>1504210000000.00</td>\n      <td>1504210000000.00</td>\n      <td>13</td>\n      <td>outoftime</td>\n      <td>white</td>\n      <td>15+2</td>\n      <td>bourgris</td>\n      <td>1500</td>\n      <td>a-00</td>\n      <td>1191</td>\n      <td>d4 d5 c4 c6 cxd5 e6 dxe6 fxe6 Nf3 Bb4+ Nc3 Ba5...</td>\n      <td>D10</td>\n      <td>Slav Defense: Exchange Variation</td>\n      <td>5</td>\n    </tr>\n    <tr>\n      <th>1</th>\n      <td>l1NXvwaE</td>\n      <td>True</td>\n      <td>1504130000000.00</td>\n      <td>1504130000000.00</td>\n      <td>16</td>\n      <td>resign</td>\n      <td>black</td>\n      <td>5+10</td>\n      <td>a-00</td>\n      <td>1322</td>\n      <td>skinnerua</td>\n      <td>1261</td>\n      <td>d4 Nc6 e4 e5 f4 f6 dxe5 fxe5 fxe5 Nxe5 Qd4 Nc6...</td>\n      <td>B00</td>\n      <td>Nimzowitsch Defense: Kennedy Variation</td>\n      <td>4</td>\n    </tr>\n    <tr>\n      <th>2</th>\n      <td>mIICvQHh</td>\n      <td>True</td>\n      <td>1504130000000.00</td>\n      <td>1504130000000.00</td>\n      <td>61</td>\n      <td>mate</td>\n      <td>white</td>\n      <td>5+10</td>\n      <td>ischia</td>\n      <td>1496</td>\n      <td>a-00</td>\n      <td>1500</td>\n      <td>e4 e5 d3 d6 Be3 c6 Be2 b5 Nd2 a5 a4 c5 axb5 Nc...</td>\n      <td>C20</td>\n      <td>King's Pawn Game: Leonardis Variation</td>\n      <td>3</td>\n    </tr>\n    <tr>\n      <th>3</th>\n      <td>kWKvrqYL</td>\n      <td>True</td>\n      <td>1504110000000.00</td>\n      <td>1504110000000.00</td>\n      <td>61</td>\n      <td>mate</td>\n      <td>white</td>\n      <td>20+0</td>\n      <td>daniamurashov</td>\n      <td>1439</td>\n      <td>adivanov2009</td>\n      <td>1454</td>\n      <td>d4 d5 Nf3 Bf5 Nc3 Nf6 Bf4 Ng4 e3 Nc6 Be2 Qd7 O...</td>\n      <td>D02</td>\n      <td>Queen's Pawn Game: Zukertort Variation</td>\n      <td>3</td>\n    </tr>\n    <tr>\n      <th>4</th>\n      <td>9tXo1AUZ</td>\n      <td>True</td>\n      <td>1504030000000.00</td>\n      <td>1504030000000.00</td>\n      <td>95</td>\n      <td>mate</td>\n      <td>white</td>\n      <td>30+3</td>\n      <td>nik221107</td>\n      <td>1523</td>\n      <td>adivanov2009</td>\n      <td>1469</td>\n      <td>e4 e5 Nf3 d6 d4 Nc6 d5 Nb4 a3 Na6 Nc3 Be7 b4 N...</td>\n      <td>C41</td>\n      <td>Philidor Defense</td>\n      <td>5</td>\n    </tr>\n  </tbody>\n</table>\n</div>"
     },
     "execution_count": 22,
     "metadata": {},
     "output_type": "execute_result"
    }
   ],
   "source": [
    "import pandas as pd\n",
    "import matplotlib.pyplot as plt\n",
    "pd.options.display.float_format = '{:.2f}'.format\n",
    "\n",
    "original_data = pd.read_csv('../data/lichess_games.csv')\n",
    "original_data.head()"
   ],
   "metadata": {
    "collapsed": false,
    "ExecuteTime": {
     "start_time": "2023-04-01T11:35:25.518074Z",
     "end_time": "2023-04-01T11:35:25.617663Z"
    }
   }
  },
  {
   "cell_type": "code",
   "execution_count": 23,
   "outputs": [
    {
     "name": "stdout",
     "output_type": "stream",
     "text": [
      "<class 'pandas.core.frame.DataFrame'>\n",
      "RangeIndex: 20058 entries, 0 to 20057\n",
      "Data columns (total 16 columns):\n",
      " #   Column          Non-Null Count  Dtype  \n",
      "---  ------          --------------  -----  \n",
      " 0   id              20058 non-null  object \n",
      " 1   rated           20058 non-null  bool   \n",
      " 2   created_at      20058 non-null  float64\n",
      " 3   last_move_at    20058 non-null  float64\n",
      " 4   turns           20058 non-null  int64  \n",
      " 5   victory_status  20058 non-null  object \n",
      " 6   winner          20058 non-null  object \n",
      " 7   increment_code  20058 non-null  object \n",
      " 8   white_id        20058 non-null  object \n",
      " 9   white_rating    20058 non-null  int64  \n",
      " 10  black_id        20058 non-null  object \n",
      " 11  black_rating    20058 non-null  int64  \n",
      " 12  moves           20058 non-null  object \n",
      " 13  opening_eco     20058 non-null  object \n",
      " 14  opening_name    20058 non-null  object \n",
      " 15  opening_ply     20058 non-null  int64  \n",
      "dtypes: bool(1), float64(2), int64(4), object(9)\n",
      "memory usage: 2.3+ MB\n"
     ]
    }
   ],
   "source": [
    "original_data.info()"
   ],
   "metadata": {
    "collapsed": false,
    "ExecuteTime": {
     "start_time": "2023-04-01T11:35:25.648646Z",
     "end_time": "2023-04-01T11:35:25.701209Z"
    }
   }
  },
  {
   "cell_type": "code",
   "execution_count": 24,
   "outputs": [
    {
     "data": {
      "text/plain": "              id  rated       created_at     last_move_at    turns  \\\ncount      20058  20058         20058.00         20058.00 20058.00   \nunique     19113      2              NaN              NaN      NaN   \ntop     XRuQPSzH   True              NaN              NaN      NaN   \nfreq           5  16155              NaN              NaN      NaN   \nmean         NaN    NaN 1483616852629.09 1483617722336.14    60.47   \nstd          NaN    NaN   28501509421.00   28501400588.89    33.57   \nmin          NaN    NaN 1376771633173.00 1376771863841.00     1.00   \n25%          NaN    NaN 1477547500000.00 1477547500000.00    37.00   \n50%          NaN    NaN 1496010000000.00 1496010000000.00    55.00   \n75%          NaN    NaN 1503170000000.00 1503170000000.00    79.00   \nmax          NaN    NaN 1504493143790.00 1504493827262.00   349.00   \n\n       victory_status winner increment_code white_id  white_rating black_id  \\\ncount           20058  20058          20058    20058      20058.00    20058   \nunique              4      3            400     9438           NaN     9331   \ntop            resign  white           10+0  taranga           NaN  taranga   \nfreq            11147  10001           7721       72           NaN       82   \nmean              NaN    NaN            NaN      NaN       1596.63      NaN   \nstd               NaN    NaN            NaN      NaN        291.25      NaN   \nmin               NaN    NaN            NaN      NaN        784.00      NaN   \n25%               NaN    NaN            NaN      NaN       1398.00      NaN   \n50%               NaN    NaN            NaN      NaN       1567.00      NaN   \n75%               NaN    NaN            NaN      NaN       1793.00      NaN   \nmax               NaN    NaN            NaN      NaN       2700.00      NaN   \n\n        black_rating  moves opening_eco          opening_name  opening_ply  \ncount       20058.00  20058       20058                 20058     20058.00  \nunique           NaN  18920         365                  1477          NaN  \ntop              NaN  e4 e5         A00  Van't Kruijs Opening          NaN  \nfreq             NaN     27        1007                   368          NaN  \nmean         1588.83    NaN         NaN                   NaN         4.82  \nstd           291.04    NaN         NaN                   NaN         2.80  \nmin           789.00    NaN         NaN                   NaN         1.00  \n25%          1391.00    NaN         NaN                   NaN         3.00  \n50%          1562.00    NaN         NaN                   NaN         4.00  \n75%          1784.00    NaN         NaN                   NaN         6.00  \nmax          2723.00    NaN         NaN                   NaN        28.00  ",
      "text/html": "<div>\n<style scoped>\n    .dataframe tbody tr th:only-of-type {\n        vertical-align: middle;\n    }\n\n    .dataframe tbody tr th {\n        vertical-align: top;\n    }\n\n    .dataframe thead th {\n        text-align: right;\n    }\n</style>\n<table border=\"1\" class=\"dataframe\">\n  <thead>\n    <tr style=\"text-align: right;\">\n      <th></th>\n      <th>id</th>\n      <th>rated</th>\n      <th>created_at</th>\n      <th>last_move_at</th>\n      <th>turns</th>\n      <th>victory_status</th>\n      <th>winner</th>\n      <th>increment_code</th>\n      <th>white_id</th>\n      <th>white_rating</th>\n      <th>black_id</th>\n      <th>black_rating</th>\n      <th>moves</th>\n      <th>opening_eco</th>\n      <th>opening_name</th>\n      <th>opening_ply</th>\n    </tr>\n  </thead>\n  <tbody>\n    <tr>\n      <th>count</th>\n      <td>20058</td>\n      <td>20058</td>\n      <td>20058.00</td>\n      <td>20058.00</td>\n      <td>20058.00</td>\n      <td>20058</td>\n      <td>20058</td>\n      <td>20058</td>\n      <td>20058</td>\n      <td>20058.00</td>\n      <td>20058</td>\n      <td>20058.00</td>\n      <td>20058</td>\n      <td>20058</td>\n      <td>20058</td>\n      <td>20058.00</td>\n    </tr>\n    <tr>\n      <th>unique</th>\n      <td>19113</td>\n      <td>2</td>\n      <td>NaN</td>\n      <td>NaN</td>\n      <td>NaN</td>\n      <td>4</td>\n      <td>3</td>\n      <td>400</td>\n      <td>9438</td>\n      <td>NaN</td>\n      <td>9331</td>\n      <td>NaN</td>\n      <td>18920</td>\n      <td>365</td>\n      <td>1477</td>\n      <td>NaN</td>\n    </tr>\n    <tr>\n      <th>top</th>\n      <td>XRuQPSzH</td>\n      <td>True</td>\n      <td>NaN</td>\n      <td>NaN</td>\n      <td>NaN</td>\n      <td>resign</td>\n      <td>white</td>\n      <td>10+0</td>\n      <td>taranga</td>\n      <td>NaN</td>\n      <td>taranga</td>\n      <td>NaN</td>\n      <td>e4 e5</td>\n      <td>A00</td>\n      <td>Van't Kruijs Opening</td>\n      <td>NaN</td>\n    </tr>\n    <tr>\n      <th>freq</th>\n      <td>5</td>\n      <td>16155</td>\n      <td>NaN</td>\n      <td>NaN</td>\n      <td>NaN</td>\n      <td>11147</td>\n      <td>10001</td>\n      <td>7721</td>\n      <td>72</td>\n      <td>NaN</td>\n      <td>82</td>\n      <td>NaN</td>\n      <td>27</td>\n      <td>1007</td>\n      <td>368</td>\n      <td>NaN</td>\n    </tr>\n    <tr>\n      <th>mean</th>\n      <td>NaN</td>\n      <td>NaN</td>\n      <td>1483616852629.09</td>\n      <td>1483617722336.14</td>\n      <td>60.47</td>\n      <td>NaN</td>\n      <td>NaN</td>\n      <td>NaN</td>\n      <td>NaN</td>\n      <td>1596.63</td>\n      <td>NaN</td>\n      <td>1588.83</td>\n      <td>NaN</td>\n      <td>NaN</td>\n      <td>NaN</td>\n      <td>4.82</td>\n    </tr>\n    <tr>\n      <th>std</th>\n      <td>NaN</td>\n      <td>NaN</td>\n      <td>28501509421.00</td>\n      <td>28501400588.89</td>\n      <td>33.57</td>\n      <td>NaN</td>\n      <td>NaN</td>\n      <td>NaN</td>\n      <td>NaN</td>\n      <td>291.25</td>\n      <td>NaN</td>\n      <td>291.04</td>\n      <td>NaN</td>\n      <td>NaN</td>\n      <td>NaN</td>\n      <td>2.80</td>\n    </tr>\n    <tr>\n      <th>min</th>\n      <td>NaN</td>\n      <td>NaN</td>\n      <td>1376771633173.00</td>\n      <td>1376771863841.00</td>\n      <td>1.00</td>\n      <td>NaN</td>\n      <td>NaN</td>\n      <td>NaN</td>\n      <td>NaN</td>\n      <td>784.00</td>\n      <td>NaN</td>\n      <td>789.00</td>\n      <td>NaN</td>\n      <td>NaN</td>\n      <td>NaN</td>\n      <td>1.00</td>\n    </tr>\n    <tr>\n      <th>25%</th>\n      <td>NaN</td>\n      <td>NaN</td>\n      <td>1477547500000.00</td>\n      <td>1477547500000.00</td>\n      <td>37.00</td>\n      <td>NaN</td>\n      <td>NaN</td>\n      <td>NaN</td>\n      <td>NaN</td>\n      <td>1398.00</td>\n      <td>NaN</td>\n      <td>1391.00</td>\n      <td>NaN</td>\n      <td>NaN</td>\n      <td>NaN</td>\n      <td>3.00</td>\n    </tr>\n    <tr>\n      <th>50%</th>\n      <td>NaN</td>\n      <td>NaN</td>\n      <td>1496010000000.00</td>\n      <td>1496010000000.00</td>\n      <td>55.00</td>\n      <td>NaN</td>\n      <td>NaN</td>\n      <td>NaN</td>\n      <td>NaN</td>\n      <td>1567.00</td>\n      <td>NaN</td>\n      <td>1562.00</td>\n      <td>NaN</td>\n      <td>NaN</td>\n      <td>NaN</td>\n      <td>4.00</td>\n    </tr>\n    <tr>\n      <th>75%</th>\n      <td>NaN</td>\n      <td>NaN</td>\n      <td>1503170000000.00</td>\n      <td>1503170000000.00</td>\n      <td>79.00</td>\n      <td>NaN</td>\n      <td>NaN</td>\n      <td>NaN</td>\n      <td>NaN</td>\n      <td>1793.00</td>\n      <td>NaN</td>\n      <td>1784.00</td>\n      <td>NaN</td>\n      <td>NaN</td>\n      <td>NaN</td>\n      <td>6.00</td>\n    </tr>\n    <tr>\n      <th>max</th>\n      <td>NaN</td>\n      <td>NaN</td>\n      <td>1504493143790.00</td>\n      <td>1504493827262.00</td>\n      <td>349.00</td>\n      <td>NaN</td>\n      <td>NaN</td>\n      <td>NaN</td>\n      <td>NaN</td>\n      <td>2700.00</td>\n      <td>NaN</td>\n      <td>2723.00</td>\n      <td>NaN</td>\n      <td>NaN</td>\n      <td>NaN</td>\n      <td>28.00</td>\n    </tr>\n  </tbody>\n</table>\n</div>"
     },
     "execution_count": 24,
     "metadata": {},
     "output_type": "execute_result"
    }
   ],
   "source": [
    "original_data.describe(include='all')"
   ],
   "metadata": {
    "collapsed": false,
    "ExecuteTime": {
     "start_time": "2023-04-01T11:35:25.659299Z",
     "end_time": "2023-04-01T11:35:25.723297Z"
    }
   }
  },
  {
   "cell_type": "code",
   "execution_count": 25,
   "outputs": [
    {
     "data": {
      "text/plain": "id                0\nrated             0\ncreated_at        0\nlast_move_at      0\nturns             0\nvictory_status    0\nwinner            0\nincrement_code    0\nwhite_id          0\nwhite_rating      0\nblack_id          0\nblack_rating      0\nmoves             0\nopening_eco       0\nopening_name      0\nopening_ply       0\ndtype: int64"
     },
     "execution_count": 25,
     "metadata": {},
     "output_type": "execute_result"
    }
   ],
   "source": [
    "original_data.isnull().sum()"
   ],
   "metadata": {
    "collapsed": false,
    "ExecuteTime": {
     "start_time": "2023-04-01T11:35:25.735318Z",
     "end_time": "2023-04-01T11:35:25.798664Z"
    }
   }
  },
  {
   "cell_type": "code",
   "execution_count": 26,
   "outputs": [
    {
     "data": {
      "text/plain": "              id  rated       created_at     last_move_at    turns  \\\ncount      20058  20058         20058.00         20058.00 20058.00   \nunique     19113      2              NaN              NaN      NaN   \ntop     XRuQPSzH   True              NaN              NaN      NaN   \nfreq           5  16155              NaN              NaN      NaN   \nmean         NaN    NaN 1483616852629.09 1483617722336.14    60.47   \nstd          NaN    NaN   28501509421.00   28501400588.89    33.57   \nmin          NaN    NaN 1376771633173.00 1376771863841.00     1.00   \n25%          NaN    NaN 1477547500000.00 1477547500000.00    37.00   \n50%          NaN    NaN 1496010000000.00 1496010000000.00    55.00   \n75%          NaN    NaN 1503170000000.00 1503170000000.00    79.00   \nmax          NaN    NaN 1504493143790.00 1504493827262.00   349.00   \n\n       victory_status winner increment_code white_id  white_rating black_id  \\\ncount           20058  20058          20058    20058      20058.00    20058   \nunique              4      3            400     9438           NaN     9331   \ntop            resign  white           10+0  taranga           NaN  taranga   \nfreq            11147  10001           7721       72           NaN       82   \nmean              NaN    NaN            NaN      NaN       1596.63      NaN   \nstd               NaN    NaN            NaN      NaN        291.25      NaN   \nmin               NaN    NaN            NaN      NaN        784.00      NaN   \n25%               NaN    NaN            NaN      NaN       1398.00      NaN   \n50%               NaN    NaN            NaN      NaN       1567.00      NaN   \n75%               NaN    NaN            NaN      NaN       1793.00      NaN   \nmax               NaN    NaN            NaN      NaN       2700.00      NaN   \n\n        black_rating  moves opening_eco          opening_name  opening_ply  \\\ncount       20058.00  20058       20058                 20058     20058.00   \nunique           NaN  18920         365                  1477          NaN   \ntop              NaN  e4 e5         A00  Van't Kruijs Opening          NaN   \nfreq             NaN     27        1007                   368          NaN   \nmean         1588.83    NaN         NaN                   NaN         4.82   \nstd           291.04    NaN         NaN                   NaN         2.80   \nmin           789.00    NaN         NaN                   NaN         1.00   \n25%          1391.00    NaN         NaN                   NaN         3.00   \n50%          1562.00    NaN         NaN                   NaN         4.00   \n75%          1784.00    NaN         NaN                   NaN         6.00   \nmax          2723.00    NaN         NaN                   NaN        28.00   \n\n        game_length  rating_diff  \ncount      20058.00     20058.00  \nunique          NaN          NaN  \ntop             NaN          NaN  \nfreq            NaN          NaN  \nmean      869707.05         7.80  \nstd      4814222.09       249.04  \nmin            0.00     -1605.00  \n25%            0.00      -108.00  \n50%       240612.00         3.00  \n75%       793171.25       122.00  \nmax    605844701.00      1499.00  ",
      "text/html": "<div>\n<style scoped>\n    .dataframe tbody tr th:only-of-type {\n        vertical-align: middle;\n    }\n\n    .dataframe tbody tr th {\n        vertical-align: top;\n    }\n\n    .dataframe thead th {\n        text-align: right;\n    }\n</style>\n<table border=\"1\" class=\"dataframe\">\n  <thead>\n    <tr style=\"text-align: right;\">\n      <th></th>\n      <th>id</th>\n      <th>rated</th>\n      <th>created_at</th>\n      <th>last_move_at</th>\n      <th>turns</th>\n      <th>victory_status</th>\n      <th>winner</th>\n      <th>increment_code</th>\n      <th>white_id</th>\n      <th>white_rating</th>\n      <th>black_id</th>\n      <th>black_rating</th>\n      <th>moves</th>\n      <th>opening_eco</th>\n      <th>opening_name</th>\n      <th>opening_ply</th>\n      <th>game_length</th>\n      <th>rating_diff</th>\n    </tr>\n  </thead>\n  <tbody>\n    <tr>\n      <th>count</th>\n      <td>20058</td>\n      <td>20058</td>\n      <td>20058.00</td>\n      <td>20058.00</td>\n      <td>20058.00</td>\n      <td>20058</td>\n      <td>20058</td>\n      <td>20058</td>\n      <td>20058</td>\n      <td>20058.00</td>\n      <td>20058</td>\n      <td>20058.00</td>\n      <td>20058</td>\n      <td>20058</td>\n      <td>20058</td>\n      <td>20058.00</td>\n      <td>20058.00</td>\n      <td>20058.00</td>\n    </tr>\n    <tr>\n      <th>unique</th>\n      <td>19113</td>\n      <td>2</td>\n      <td>NaN</td>\n      <td>NaN</td>\n      <td>NaN</td>\n      <td>4</td>\n      <td>3</td>\n      <td>400</td>\n      <td>9438</td>\n      <td>NaN</td>\n      <td>9331</td>\n      <td>NaN</td>\n      <td>18920</td>\n      <td>365</td>\n      <td>1477</td>\n      <td>NaN</td>\n      <td>NaN</td>\n      <td>NaN</td>\n    </tr>\n    <tr>\n      <th>top</th>\n      <td>XRuQPSzH</td>\n      <td>True</td>\n      <td>NaN</td>\n      <td>NaN</td>\n      <td>NaN</td>\n      <td>resign</td>\n      <td>white</td>\n      <td>10+0</td>\n      <td>taranga</td>\n      <td>NaN</td>\n      <td>taranga</td>\n      <td>NaN</td>\n      <td>e4 e5</td>\n      <td>A00</td>\n      <td>Van't Kruijs Opening</td>\n      <td>NaN</td>\n      <td>NaN</td>\n      <td>NaN</td>\n    </tr>\n    <tr>\n      <th>freq</th>\n      <td>5</td>\n      <td>16155</td>\n      <td>NaN</td>\n      <td>NaN</td>\n      <td>NaN</td>\n      <td>11147</td>\n      <td>10001</td>\n      <td>7721</td>\n      <td>72</td>\n      <td>NaN</td>\n      <td>82</td>\n      <td>NaN</td>\n      <td>27</td>\n      <td>1007</td>\n      <td>368</td>\n      <td>NaN</td>\n      <td>NaN</td>\n      <td>NaN</td>\n    </tr>\n    <tr>\n      <th>mean</th>\n      <td>NaN</td>\n      <td>NaN</td>\n      <td>1483616852629.09</td>\n      <td>1483617722336.14</td>\n      <td>60.47</td>\n      <td>NaN</td>\n      <td>NaN</td>\n      <td>NaN</td>\n      <td>NaN</td>\n      <td>1596.63</td>\n      <td>NaN</td>\n      <td>1588.83</td>\n      <td>NaN</td>\n      <td>NaN</td>\n      <td>NaN</td>\n      <td>4.82</td>\n      <td>869707.05</td>\n      <td>7.80</td>\n    </tr>\n    <tr>\n      <th>std</th>\n      <td>NaN</td>\n      <td>NaN</td>\n      <td>28501509421.00</td>\n      <td>28501400588.89</td>\n      <td>33.57</td>\n      <td>NaN</td>\n      <td>NaN</td>\n      <td>NaN</td>\n      <td>NaN</td>\n      <td>291.25</td>\n      <td>NaN</td>\n      <td>291.04</td>\n      <td>NaN</td>\n      <td>NaN</td>\n      <td>NaN</td>\n      <td>2.80</td>\n      <td>4814222.09</td>\n      <td>249.04</td>\n    </tr>\n    <tr>\n      <th>min</th>\n      <td>NaN</td>\n      <td>NaN</td>\n      <td>1376771633173.00</td>\n      <td>1376771863841.00</td>\n      <td>1.00</td>\n      <td>NaN</td>\n      <td>NaN</td>\n      <td>NaN</td>\n      <td>NaN</td>\n      <td>784.00</td>\n      <td>NaN</td>\n      <td>789.00</td>\n      <td>NaN</td>\n      <td>NaN</td>\n      <td>NaN</td>\n      <td>1.00</td>\n      <td>0.00</td>\n      <td>-1605.00</td>\n    </tr>\n    <tr>\n      <th>25%</th>\n      <td>NaN</td>\n      <td>NaN</td>\n      <td>1477547500000.00</td>\n      <td>1477547500000.00</td>\n      <td>37.00</td>\n      <td>NaN</td>\n      <td>NaN</td>\n      <td>NaN</td>\n      <td>NaN</td>\n      <td>1398.00</td>\n      <td>NaN</td>\n      <td>1391.00</td>\n      <td>NaN</td>\n      <td>NaN</td>\n      <td>NaN</td>\n      <td>3.00</td>\n      <td>0.00</td>\n      <td>-108.00</td>\n    </tr>\n    <tr>\n      <th>50%</th>\n      <td>NaN</td>\n      <td>NaN</td>\n      <td>1496010000000.00</td>\n      <td>1496010000000.00</td>\n      <td>55.00</td>\n      <td>NaN</td>\n      <td>NaN</td>\n      <td>NaN</td>\n      <td>NaN</td>\n      <td>1567.00</td>\n      <td>NaN</td>\n      <td>1562.00</td>\n      <td>NaN</td>\n      <td>NaN</td>\n      <td>NaN</td>\n      <td>4.00</td>\n      <td>240612.00</td>\n      <td>3.00</td>\n    </tr>\n    <tr>\n      <th>75%</th>\n      <td>NaN</td>\n      <td>NaN</td>\n      <td>1503170000000.00</td>\n      <td>1503170000000.00</td>\n      <td>79.00</td>\n      <td>NaN</td>\n      <td>NaN</td>\n      <td>NaN</td>\n      <td>NaN</td>\n      <td>1793.00</td>\n      <td>NaN</td>\n      <td>1784.00</td>\n      <td>NaN</td>\n      <td>NaN</td>\n      <td>NaN</td>\n      <td>6.00</td>\n      <td>793171.25</td>\n      <td>122.00</td>\n    </tr>\n    <tr>\n      <th>max</th>\n      <td>NaN</td>\n      <td>NaN</td>\n      <td>1504493143790.00</td>\n      <td>1504493827262.00</td>\n      <td>349.00</td>\n      <td>NaN</td>\n      <td>NaN</td>\n      <td>NaN</td>\n      <td>NaN</td>\n      <td>2700.00</td>\n      <td>NaN</td>\n      <td>2723.00</td>\n      <td>NaN</td>\n      <td>NaN</td>\n      <td>NaN</td>\n      <td>28.00</td>\n      <td>605844701.00</td>\n      <td>1499.00</td>\n    </tr>\n  </tbody>\n</table>\n</div>"
     },
     "execution_count": 26,
     "metadata": {},
     "output_type": "execute_result"
    }
   ],
   "source": [
    "# Create helper columns\n",
    "working_data = original_data.assign(game_length = lambda x:x.last_move_at.sub(x.created_at),\n",
    "                                   rating_diff = lambda x: x.white_rating.sub(x.black_rating))\n",
    "working_data.describe(include='all')"
   ],
   "metadata": {
    "collapsed": false,
    "ExecuteTime": {
     "start_time": "2023-04-01T11:35:25.758322Z",
     "end_time": "2023-04-01T11:35:25.842370Z"
    }
   }
  },
  {
   "cell_type": "code",
   "execution_count": 30,
   "outputs": [
    {
     "data": {
      "text/plain": "count           20058.00\nmean    1483616852629.09\nstd       28501509421.00\nmin     1376771633173.00\n25%     1477547500000.00\n50%     1496010000000.00\n75%     1503170000000.00\nmax     1504493143790.00\nName: created_at, dtype: float64"
     },
     "execution_count": 30,
     "metadata": {},
     "output_type": "execute_result"
    }
   ],
   "source": [
    "working_data.created_at.describe()\n",
    "# Is this a UNIX timestamp? I'll come back to this."
   ],
   "metadata": {
    "collapsed": false,
    "ExecuteTime": {
     "start_time": "2023-04-01T11:35:45.077632Z",
     "end_time": "2023-04-01T11:35:45.082413Z"
    }
   }
  },
  {
   "cell_type": "markdown",
   "source": [
    "## Explore the variables\n",
    "### Game ID"
   ],
   "metadata": {
    "collapsed": false
   }
  },
  {
   "cell_type": "code",
   "execution_count": 31,
   "outputs": [
    {
     "data": {
      "text/plain": "19113"
     },
     "execution_count": 31,
     "metadata": {},
     "output_type": "execute_result"
    }
   ],
   "source": [
    "working_data.id.nunique()"
   ],
   "metadata": {
    "collapsed": false,
    "ExecuteTime": {
     "start_time": "2023-04-01T11:42:08.402383Z",
     "end_time": "2023-04-01T11:42:08.406916Z"
    }
   }
  },
  {
   "cell_type": "code",
   "execution_count": 33,
   "outputs": [
    {
     "data": {
      "text/plain": "945"
     },
     "execution_count": 33,
     "metadata": {},
     "output_type": "execute_result"
    }
   ],
   "source": [
    "# There should be a unique ID for all games. Let's check for duplicates with `id` as a subset.\n",
    "working_data.duplicated(subset='id').sum()"
   ],
   "metadata": {
    "collapsed": false,
    "ExecuteTime": {
     "start_time": "2023-04-01T11:43:12.118313Z",
     "end_time": "2023-04-01T11:43:12.122440Z"
    }
   }
  },
  {
   "cell_type": "code",
   "execution_count": 38,
   "outputs": [
    {
     "data": {
      "text/plain": "             id  rated       created_at     last_move_at  turns  \\\n11279  061LCiAb   True 1396112980274.00 1396113867708.00     66   \n10570  061LCiAb   True 1396112980274.00 1396113867708.00     66   \n12208  079kHDqh   True 1504113218482.00 1504113454255.00     32   \n720    079kHDqh   True 1504110000000.00 1504110000000.00     32   \n3882   07e0uVvn   True 1491950000000.00 1491960000000.00     35   \n\n      victory_status winner increment_code          white_id  white_rating  \\\n11279           draw   draw          10+15           faraon7          1630   \n10570           draw   draw          10+15           faraon7          1630   \n12208         resign  black           10+0  wiggleitjiggleit          1448   \n720           resign  black           10+0  wiggleitjiggleit          1448   \n3882            mate  white           30+0      chessguy9001          1259   \n\n                 black_id  black_rating  \\\n11279  vladimir-kramnik-1          1584   \n10570  vladimir-kramnik-1          1584   \n12208          penguin_lo          1436   \n720            penguin_lo          1436   \n3882         helykopter33          1319   \n\n                                                   moves opening_eco  \\\n11279  e4 e6 Nf3 d5 exd5 exd5 Bb5+ Bd7 Bxd7+ Qxd7 O-O...         C00   \n10570  e4 e6 Nf3 d5 exd5 exd5 Bb5+ Bd7 Bxd7+ Qxd7 O-O...         C00   \n12208  d4 d5 c4 Bf5 Nf3 e6 e3 Nc6 cxd5 Qxd5 Bd3 Bb4+ ...         D02   \n720    d4 d5 c4 Bf5 Nf3 e6 e3 Nc6 cxd5 Qxd5 Bd3 Bb4+ ...         D02   \n3882   e4 e5 Nf3 Nf6 d3 Bc5 Nxe5 d6 Nc4 Bxf2+ Kxf2 Ng...         C42   \n\n                                 opening_name  opening_ply  game_length  \\\n11279        French Defense: Knight Variation            3    887434.00   \n10570        French Defense: Knight Variation            3    887434.00   \n12208  Queen's Gambit Refused: Baltic Defense            4    235773.00   \n720    Queen's Gambit Refused: Baltic Defense            4         0.00   \n3882                         Petrov's Defense            4  10000000.00   \n\n       rating_diff  \n11279           46  \n10570           46  \n12208           12  \n720             12  \n3882           -60  ",
      "text/html": "<div>\n<style scoped>\n    .dataframe tbody tr th:only-of-type {\n        vertical-align: middle;\n    }\n\n    .dataframe tbody tr th {\n        vertical-align: top;\n    }\n\n    .dataframe thead th {\n        text-align: right;\n    }\n</style>\n<table border=\"1\" class=\"dataframe\">\n  <thead>\n    <tr style=\"text-align: right;\">\n      <th></th>\n      <th>id</th>\n      <th>rated</th>\n      <th>created_at</th>\n      <th>last_move_at</th>\n      <th>turns</th>\n      <th>victory_status</th>\n      <th>winner</th>\n      <th>increment_code</th>\n      <th>white_id</th>\n      <th>white_rating</th>\n      <th>black_id</th>\n      <th>black_rating</th>\n      <th>moves</th>\n      <th>opening_eco</th>\n      <th>opening_name</th>\n      <th>opening_ply</th>\n      <th>game_length</th>\n      <th>rating_diff</th>\n    </tr>\n  </thead>\n  <tbody>\n    <tr>\n      <th>11279</th>\n      <td>061LCiAb</td>\n      <td>True</td>\n      <td>1396112980274.00</td>\n      <td>1396113867708.00</td>\n      <td>66</td>\n      <td>draw</td>\n      <td>draw</td>\n      <td>10+15</td>\n      <td>faraon7</td>\n      <td>1630</td>\n      <td>vladimir-kramnik-1</td>\n      <td>1584</td>\n      <td>e4 e6 Nf3 d5 exd5 exd5 Bb5+ Bd7 Bxd7+ Qxd7 O-O...</td>\n      <td>C00</td>\n      <td>French Defense: Knight Variation</td>\n      <td>3</td>\n      <td>887434.00</td>\n      <td>46</td>\n    </tr>\n    <tr>\n      <th>10570</th>\n      <td>061LCiAb</td>\n      <td>True</td>\n      <td>1396112980274.00</td>\n      <td>1396113867708.00</td>\n      <td>66</td>\n      <td>draw</td>\n      <td>draw</td>\n      <td>10+15</td>\n      <td>faraon7</td>\n      <td>1630</td>\n      <td>vladimir-kramnik-1</td>\n      <td>1584</td>\n      <td>e4 e6 Nf3 d5 exd5 exd5 Bb5+ Bd7 Bxd7+ Qxd7 O-O...</td>\n      <td>C00</td>\n      <td>French Defense: Knight Variation</td>\n      <td>3</td>\n      <td>887434.00</td>\n      <td>46</td>\n    </tr>\n    <tr>\n      <th>12208</th>\n      <td>079kHDqh</td>\n      <td>True</td>\n      <td>1504113218482.00</td>\n      <td>1504113454255.00</td>\n      <td>32</td>\n      <td>resign</td>\n      <td>black</td>\n      <td>10+0</td>\n      <td>wiggleitjiggleit</td>\n      <td>1448</td>\n      <td>penguin_lo</td>\n      <td>1436</td>\n      <td>d4 d5 c4 Bf5 Nf3 e6 e3 Nc6 cxd5 Qxd5 Bd3 Bb4+ ...</td>\n      <td>D02</td>\n      <td>Queen's Gambit Refused: Baltic Defense</td>\n      <td>4</td>\n      <td>235773.00</td>\n      <td>12</td>\n    </tr>\n    <tr>\n      <th>720</th>\n      <td>079kHDqh</td>\n      <td>True</td>\n      <td>1504110000000.00</td>\n      <td>1504110000000.00</td>\n      <td>32</td>\n      <td>resign</td>\n      <td>black</td>\n      <td>10+0</td>\n      <td>wiggleitjiggleit</td>\n      <td>1448</td>\n      <td>penguin_lo</td>\n      <td>1436</td>\n      <td>d4 d5 c4 Bf5 Nf3 e6 e3 Nc6 cxd5 Qxd5 Bd3 Bb4+ ...</td>\n      <td>D02</td>\n      <td>Queen's Gambit Refused: Baltic Defense</td>\n      <td>4</td>\n      <td>0.00</td>\n      <td>12</td>\n    </tr>\n    <tr>\n      <th>3882</th>\n      <td>07e0uVvn</td>\n      <td>True</td>\n      <td>1491950000000.00</td>\n      <td>1491960000000.00</td>\n      <td>35</td>\n      <td>mate</td>\n      <td>white</td>\n      <td>30+0</td>\n      <td>chessguy9001</td>\n      <td>1259</td>\n      <td>helykopter33</td>\n      <td>1319</td>\n      <td>e4 e5 Nf3 Nf6 d3 Bc5 Nxe5 d6 Nc4 Bxf2+ Kxf2 Ng...</td>\n      <td>C42</td>\n      <td>Petrov's Defense</td>\n      <td>4</td>\n      <td>10000000.00</td>\n      <td>-60</td>\n    </tr>\n  </tbody>\n</table>\n</div>"
     },
     "execution_count": 38,
     "metadata": {},
     "output_type": "execute_result"
    }
   ],
   "source": [
    "duplicated_games = working_data[working_data.duplicated(subset='id', keep=False)]\n",
    "duplicated_games.sort_values(by='id').head()"
   ],
   "metadata": {
    "collapsed": false,
    "ExecuteTime": {
     "start_time": "2023-04-01T11:50:07.273370Z",
     "end_time": "2023-04-01T11:50:07.286411Z"
    }
   }
  },
  {
   "cell_type": "markdown",
   "source": [],
   "metadata": {
    "collapsed": false
   }
  },
  {
   "cell_type": "code",
   "execution_count": 45,
   "outputs": [],
   "source": [
    "# Let's get rid of those duplicates.\n",
    "working_data = working_data.drop_duplicates(subset='id')"
   ],
   "metadata": {
    "collapsed": false,
    "ExecuteTime": {
     "start_time": "2023-04-01T11:53:35.922650Z",
     "end_time": "2023-04-01T11:53:35.928754Z"
    }
   }
  },
  {
   "cell_type": "markdown",
   "source": [
    "### Rated Games\n",
    "This indicates whether a game will affect a user's rating."
   ],
   "metadata": {
    "collapsed": false
   }
  },
  {
   "cell_type": "code",
   "execution_count": 67,
   "outputs": [
    {
     "data": {
      "text/plain": "rated\nFalse     3646\nTrue     15467\nName: id, dtype: int64"
     },
     "execution_count": 67,
     "metadata": {},
     "output_type": "execute_result"
    }
   ],
   "source": [
    "working_data.groupby(by='rated').id.count()"
   ],
   "metadata": {
    "collapsed": false,
    "ExecuteTime": {
     "start_time": "2023-04-01T12:02:36.649795Z",
     "end_time": "2023-04-01T12:02:36.655273Z"
    }
   }
  },
  {
   "cell_type": "markdown",
   "source": [
    "Rated games account for about 81% of all games. What is special about the games that are unrated? Do they feature large skill imbalances between opponents? Are they a time format that a user is not used to playing?"
   ],
   "metadata": {
    "collapsed": false
   }
  },
  {
   "cell_type": "markdown",
   "source": [
    "### Number of turns\n",
    "While there are some rules about draws, there are no limits to the number of turns."
   ],
   "metadata": {
    "collapsed": false
   }
  },
  {
   "cell_type": "code",
   "execution_count": 70,
   "outputs": [
    {
     "data": {
      "text/plain": "count   19113.00\nmean       60.51\nstd        33.49\nmin         1.00\n25%        37.00\n50%        55.00\n75%        79.00\nmax       349.00\nName: turns, dtype: float64"
     },
     "execution_count": 70,
     "metadata": {},
     "output_type": "execute_result"
    }
   ],
   "source": [
    "working_data.turns.describe()"
   ],
   "metadata": {
    "collapsed": false,
    "ExecuteTime": {
     "start_time": "2023-04-01T12:11:55.390155Z",
     "end_time": "2023-04-01T12:11:55.394971Z"
    }
   }
  }
 ],
 "metadata": {
  "kernelspec": {
   "display_name": "Python 3",
   "language": "python",
   "name": "python3"
  },
  "language_info": {
   "codemirror_mode": {
    "name": "ipython",
    "version": 2
   },
   "file_extension": ".py",
   "mimetype": "text/x-python",
   "name": "python",
   "nbconvert_exporter": "python",
   "pygments_lexer": "ipython2",
   "version": "2.7.6"
  }
 },
 "nbformat": 4,
 "nbformat_minor": 0
}
